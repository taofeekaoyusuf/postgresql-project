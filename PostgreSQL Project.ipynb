{
 "cells": [
  {
   "cell_type": "markdown",
   "id": "c58fb3a5-32fc-408e-a88f-a7699abb55bf",
   "metadata": {},
   "source": [
    "# POSTGRESQL PROJECT"
   ]
  },
  {
   "cell_type": "markdown",
   "id": "e218cdf5-8568-4623-97df-7edc453a5ce8",
   "metadata": {},
   "source": [
    "### Importing useful Libraries"
   ]
  },
  {
   "cell_type": "code",
   "execution_count": 1,
   "id": "747903bf-c99e-4f3d-b6c0-0b7b93eb7ed3",
   "metadata": {},
   "outputs": [],
   "source": [
    "import psycopg2 as pg"
   ]
  },
  {
   "cell_type": "markdown",
   "id": "29d75ba4-8778-4675-9214-9fa55dd19e39",
   "metadata": {},
   "source": [
    "## Psycopg2 \n",
    "\n",
    "* It is the most popular PostgreSQL database adapter for the Python programming language. \n",
    "* Its main features are the complete implementation of the Python DB API 2.0 specification and the thread safety (several threads can share the same connection). \n",
    "* It was designed for heavily multi-threaded applications that create and destroy lots of cursors and make a large number of concurrent “INSERT”s or “UPDATE”s."
   ]
  },
  {
   "cell_type": "markdown",
   "id": "71640a72-2660-4682-ba2f-29ea8b66209f",
   "metadata": {},
   "source": [
    "### Creating and making connection to Database"
   ]
  },
  {
   "cell_type": "code",
   "execution_count": 2,
   "id": "b00af402-9513-4a6a-871b-686734938bed",
   "metadata": {},
   "outputs": [],
   "source": [
    "def create_database_and_connection():\n",
    "    # Connecting to the default database\n",
    "    try:\n",
    "        conn = pg.connect(\n",
    "            \"host = localhost \\\n",
    "            dbname = test \\\n",
    "            user = postgres \\\n",
    "            password = Passdb\"\n",
    "    )\n",
    "    except pg.Error as e:\n",
    "        print(f\"\\n{e}\\nERROR: Could not connect to the Postgress Database\\n\")\n",
    "        \n",
    "    conn.set_session(autocommit=True)\n",
    "    \n",
    "    # Creating initial cursor\n",
    "    try:\n",
    "        cur = conn.cursor()\n",
    "    except pg.Error as e:\n",
    "        print(f\"\\n{e}\\nERROR: Could not make a cursor to the Postgress Database\\n\")\n",
    "    \n",
    "    # Drop if exists and create the Database\n",
    "    cur.execute(\"DROP DATABASE IF EXISTS dvdrentals\")\n",
    "    cur.execute(\"CREATE DATABASE dvdrentals\")\n",
    "    \n",
    "    # Closing connection to the default Database\n",
    "    try:\n",
    "        conn.close()\n",
    "    except pg.Error as e:\n",
    "        print(f\"\\n{e}\\nERROR: Cannot closed the connection to the former Database\")\n",
    "\n",
    "    # Initiating Connection to the created Database with a New Role\n",
    "    try:\n",
    "        conn = pg.connect(\"host=127.0.0.1 dbname=dvdrentals user=computech password=Pass\")\n",
    "    except pg.Error as e:\n",
    "        print(f\"\\n{e}\\nERROR: Could not connect to the Database\\n\")\n",
    "\n",
    "    # Initiating a Cursor to the New Database\n",
    "    try:\n",
    "        cur = conn.cursor()\n",
    "    except pg.Error as e:\n",
    "        print(f\"\\n{e}\\nERROR: Could not make a cursor to the Database\\n\")\n",
    "\n",
    "    # Creating automatic commit\n",
    "    conn.set_session(autocommit=True)\n",
    "    \n",
    "    return cur, conn\n",
    "    \n",
    "    \n",
    "cur, conn = create_database_and_connection()"
   ]
  },
  {
   "cell_type": "markdown",
   "id": "92cb8b47-2a5c-48c9-a282-1a5815880fb2",
   "metadata": {},
   "source": [
    "### Loading the Data into the created DVDRENTALS Database"
   ]
  },
  {
   "cell_type": "code",
   "execution_count": 3,
   "id": "0c35680c-cca9-4680-ba9d-e6781dfe68d8",
   "metadata": {},
   "outputs": [
    {
     "name": "stdout",
     "output_type": "stream",
     "text": [
      "pg_restore: error: could not open input file \"dvdrental.tar\": No such file or directory\n"
     ]
    }
   ],
   "source": [
    "!pg_restore -U computech -d dvdrentals dvdrental.tar"
   ]
  },
  {
   "cell_type": "code",
   "execution_count": 4,
   "id": "4e03537d-cc62-4141-a41f-d5b7ddff78ac",
   "metadata": {},
   "outputs": [],
   "source": [
    "# cat dvdrental.txt | psql dvdrentals"
   ]
  },
  {
   "cell_type": "markdown",
   "id": "eebe5f3b-a417-42a5-bace-3f2449904a3f",
   "metadata": {},
   "source": [
    "### Sample Query to get Record from Unrelated Tables\n",
    "\n",
    "* In this case, we tracked down the payment information related to a film info, though, both Tables are not related.\n",
    "* This could be carried out using JOIN function as shown in the sample query below.\n",
    "* This query could be adjusted or modified depending on the output choice."
   ]
  },
  {
   "cell_type": "code",
   "execution_count": null,
   "id": "cb2ab801-91e4-45ee-bb07-d1e36c8234c5",
   "metadata": {},
   "outputs": [],
   "source": [
    "# SELECT f.title, p.payment_id, p.rental_id, r.inventory_id, i.film_id, p.amount, SUM(p.amount) AS revenue FROM payment as p\n",
    "# JOIN rental r ON p.rental_id = r.rental_id\n",
    "# JOIN inventory i ON r.inventory_id = i.inventory_id\n",
    "# JOIN film f ON i.film_id = f.film_id\n",
    "# GROUP BY f.film_id, p.payment_id, r.inventory_id, i.film_id\n",
    "# ORDER BY sum(p.amount) DESC"
   ]
  },
  {
   "cell_type": "code",
   "execution_count": null,
   "id": "a3233a99-c0ed-4f61-86dc-1b427a65bfad",
   "metadata": {},
   "outputs": [],
   "source": []
  }
 ],
 "metadata": {
  "kernelspec": {
   "display_name": "Python 3 (ipykernel)",
   "language": "python",
   "name": "python3"
  },
  "language_info": {
   "codemirror_mode": {
    "name": "ipython",
    "version": 3
   },
   "file_extension": ".py",
   "mimetype": "text/x-python",
   "name": "python",
   "nbconvert_exporter": "python",
   "pygments_lexer": "ipython3",
   "version": "3.9.7"
  }
 },
 "nbformat": 4,
 "nbformat_minor": 5
}
